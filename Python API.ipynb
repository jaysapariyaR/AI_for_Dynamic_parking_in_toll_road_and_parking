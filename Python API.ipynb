{
 "cells": [
  {
   "cell_type": "markdown",
   "id": "44dc8478-6858-4f6e-a997-ec62d8016b43",
   "metadata": {},
   "source": [
    "# STEP 7: Flask API for Integration with Toll/Parking Systems"
   ]
  },
  {
   "cell_type": "code",
   "execution_count": 1,
   "id": "54d87f20-b423-417f-81c8-aed8d0bb051d",
   "metadata": {},
   "outputs": [
    {
     "name": "stdout",
     "output_type": "stream",
     "text": [
      " * Serving Flask app '__main__'\n",
      " * Debug mode: on\n"
     ]
    },
    {
     "name": "stderr",
     "output_type": "stream",
     "text": [
      "WARNING: This is a development server. Do not use it in a production deployment. Use a production WSGI server instead.\n",
      " * Running on http://127.0.0.1:5000\n",
      "Press CTRL+C to quit\n",
      " * Restarting with watchdog (windowsapi)\n"
     ]
    },
    {
     "ename": "SystemExit",
     "evalue": "1",
     "output_type": "error",
     "traceback": [
      "An exception has occurred, use %tb to see the full traceback.\n",
      "\u001b[1;31mSystemExit\u001b[0m\u001b[1;31m:\u001b[0m 1\n"
     ]
    },
    {
     "name": "stderr",
     "output_type": "stream",
     "text": [
      "C:\\Users\\jaysa\\AppData\\Roaming\\Python\\Python312\\site-packages\\IPython\\core\\interactiveshell.py:3585: UserWarning: To exit: use 'exit', 'quit', or Ctrl-D.\n",
      "  warn(\"To exit: use 'exit', 'quit', or Ctrl-D.\", stacklevel=1)\n"
     ]
    }
   ],
   "source": [
    "from flask import Flask, request, jsonify\n",
    "import joblib\n",
    "import pandas as pd\n",
    "\n",
    "# Load model and label encoders\n",
    "model = joblib.load(\"model.pkl\")\n",
    "label_encoders = joblib.load(\"label_encoders.pkl\")\n",
    "\n",
    "# Define features\n",
    "features = ['location', 'vehicle_type', 'traffic_level', 'occupancy_rate', \n",
    "            'weather', 'day_of_week', 'is_holiday']\n",
    "\n",
    "app = Flask(__name__)\n",
    "\n",
    "@app.route('/predict', methods=['POST'])\n",
    "def predict_price():\n",
    "    try:\n",
    "        data = request.json\n",
    "\n",
    "        # Encode categorical fields\n",
    "        encoded_data = {\n",
    "            'location': label_encoders['location'].transform([data['location']])[0],\n",
    "            'vehicle_type': label_encoders['vehicle_type'].transform([data['vehicle_type']])[0],\n",
    "            'traffic_level': label_encoders['traffic_level'].transform([data['traffic_level']])[0],\n",
    "            'occupancy_rate': float(data['occupancy_rate']),\n",
    "            'weather': label_encoders['weather'].transform([data['weather']])[0],\n",
    "            'day_of_week': label_encoders['day_of_week'].transform([data['day_of_week']])[0],\n",
    "            'is_holiday': int(data['is_holiday'])\n",
    "        }\n",
    "\n",
    "        input_df = pd.DataFrame([encoded_data])\n",
    "        predicted_price = model.predict(input_df)[0]\n",
    "\n",
    "        return jsonify({'predicted_price': round(predicted_price, 2)})\n",
    "\n",
    "    except Exception as e:\n",
    "        return jsonify({'error': str(e)}), 400\n",
    "\n",
    "if __name__ == '__main__':\n",
    "    app.run(debug=True)"
   ]
  },
  {
   "cell_type": "code",
   "execution_count": null,
   "id": "710ed849-6567-4b45-bdd4-e4b8318b27e1",
   "metadata": {},
   "outputs": [],
   "source": []
  }
 ],
 "metadata": {
  "kernelspec": {
   "display_name": "Python 3 (ipykernel)",
   "language": "python",
   "name": "python3"
  },
  "language_info": {
   "codemirror_mode": {
    "name": "ipython",
    "version": 3
   },
   "file_extension": ".py",
   "mimetype": "text/x-python",
   "name": "python",
   "nbconvert_exporter": "python",
   "pygments_lexer": "ipython3",
   "version": "3.12.3"
  }
 },
 "nbformat": 4,
 "nbformat_minor": 5
}
