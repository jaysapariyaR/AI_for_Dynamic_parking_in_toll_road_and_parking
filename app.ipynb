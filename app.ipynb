{
 "cells": [
  {
   "cell_type": "markdown",
   "id": "e06da7e2-a1e8-4a36-ae4b-135a670c38ae",
   "metadata": {},
   "source": [
    "# STEP 6: USER DASHBOARDS"
   ]
  },
  {
   "cell_type": "code",
   "execution_count": 2,
   "id": "2c1398fa-a6ec-40ae-a05c-f8ea5c5eeb55",
   "metadata": {},
   "outputs": [
    {
     "name": "stdout",
     "output_type": "stream",
     "text": [
      "✅ app.py created successfully with UTF-8 encoding!\n"
     ]
    }
   ],
   "source": [
    "code = '''\n",
    "import streamlit as st\n",
    "import pandas as pd\n",
    "import numpy as np\n",
    "import joblib\n",
    "from sklearn.ensemble import RandomForestRegressor\n",
    "\n",
    "# Load trained model and encoders\n",
    "model = joblib.load(\"model.pkl\")\n",
    "label_encoders = joblib.load(\"label_encoders.pkl\")\n",
    "\n",
    "# Define features\n",
    "features = ['location', 'vehicle_type', 'traffic_level', 'occupancy_rate', \n",
    "            'weather', 'day_of_week', 'is_holiday']\n",
    "\n",
    "st.title(\"🚗 AI for Dynamic Pricing in Toll Roads & Parking\")\n",
    "\n",
    "# Input selectors\n",
    "location = st.selectbox(\"Select Location\", label_encoders['location'].classes_)\n",
    "vehicle_type = st.selectbox(\"Select Vehicle Type\", label_encoders['vehicle_type'].classes_)\n",
    "traffic_level = st.selectbox(\"Traffic Level\", label_encoders['traffic_level'].classes_)\n",
    "occupancy = st.slider(\"Occupancy Rate\", 0.0, 1.0, 0.7)\n",
    "weather = st.selectbox(\"Weather Condition\", label_encoders['weather'].classes_)\n",
    "day = st.selectbox(\"Day of Week\", label_encoders['day_of_week'].classes_)\n",
    "holiday = st.selectbox(\"Is it a Holiday?\", [0, 1])\n",
    "\n",
    "# Encode inputs\n",
    "input_dict = {\n",
    "    'location': label_encoders['location'].transform([location])[0],\n",
    "    'vehicle_type': label_encoders['vehicle_type'].transform([vehicle_type])[0],\n",
    "    'traffic_level': label_encoders['traffic_level'].transform([traffic_level])[0],\n",
    "    'occupancy_rate': occupancy,\n",
    "    'weather': label_encoders['weather'].transform([weather])[0],\n",
    "    'day_of_week': label_encoders['day_of_week'].transform([day])[0],\n",
    "    'is_holiday': holiday\n",
    "}\n",
    "\n",
    "input_df = pd.DataFrame([input_dict])\n",
    "\n",
    "# Predict dynamic price\n",
    "predicted_price = model.predict(input_df)[0]\n",
    "st.success(f\"💰 Suggested Dynamic Price: ₹{round(predicted_price, 2)}\")\n",
    "\n",
    "# Simulate user response\n",
    "def simulate_user_response(predicted_price, base_price=60):\n",
    "    if predicted_price <= base_price * 1.1:\n",
    "        return np.random.choice(['accept', 'decline'], p=[0.75, 0.25])\n",
    "    else:\n",
    "        return np.random.choice(['accept', 'decline'], p=[0.35, 0.65])\n",
    "\n",
    "user_response = simulate_user_response(predicted_price)\n",
    "st.info(f\"🧍 User Response (Estimated): {user_response}\")\n",
    "'''\n",
    "\n",
    "# Save it to app.py\n",
    "with open(\"app.py\", \"w\", encoding='utf-8') as f:\n",
    "    f.write(code)\n",
    "\n",
    "print(\"✅ app.py created successfully with UTF-8 encoding!\")"
   ]
  },
  {
   "cell_type": "code",
   "execution_count": null,
   "id": "6b42b877-e1e7-4f81-9bbf-3cce293ad576",
   "metadata": {},
   "outputs": [],
   "source": []
  }
 ],
 "metadata": {
  "kernelspec": {
   "display_name": "Python 3 (ipykernel)",
   "language": "python",
   "name": "python3"
  },
  "language_info": {
   "codemirror_mode": {
    "name": "ipython",
    "version": 3
   },
   "file_extension": ".py",
   "mimetype": "text/x-python",
   "name": "python",
   "nbconvert_exporter": "python",
   "pygments_lexer": "ipython3",
   "version": "3.12.3"
  }
 },
 "nbformat": 4,
 "nbformat_minor": 5
}
